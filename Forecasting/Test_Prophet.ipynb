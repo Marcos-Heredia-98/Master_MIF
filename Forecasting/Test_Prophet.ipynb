{
 "cells": [
  {
   "cell_type": "code",
   "execution_count": 26,
   "metadata": {},
   "outputs": [],
   "source": [
    "import pandas as pd\n",
    "from prophet import Prophet"
   ]
  },
  {
   "cell_type": "code",
   "execution_count": null,
   "metadata": {},
   "outputs": [],
   "source": []
  },
  {
   "cell_type": "code",
   "execution_count": 25,
   "metadata": {},
   "outputs": [
    {
     "name": "stdout",
     "output_type": "stream",
     "text": [
      "            DS        Y\n",
      "235 1997-08-01  1626844\n",
      "236 1997-09-01  1556541\n",
      "237 1997-10-01  1402764\n",
      "238 1997-11-01  1094472\n",
      "239 1997-12-01  1043739\n"
     ]
    }
   ],
   "source": [
    "# Fechas de inicio y frecuencia\n",
    "start_date = '1978-01-01'\n",
    "date_range = pd.date_range(start=start_date, periods=len(data), freq='MS')\n",
    "\n",
    "# Crear DataFrame\n",
    "df = pd.DataFrame({'DS': date_range, 'Y': data})\n",
    "\n",
    "print(df.head())"
   ]
  }
 ],
 "metadata": {
  "kernelspec": {
   "display_name": "Python 3",
   "language": "python",
   "name": "python3"
  },
  "language_info": {
   "codemirror_mode": {
    "name": "ipython",
    "version": 3
   },
   "file_extension": ".py",
   "mimetype": "text/x-python",
   "name": "python",
   "nbconvert_exporter": "python",
   "pygments_lexer": "ipython3",
   "version": "3.11.8"
  }
 },
 "nbformat": 4,
 "nbformat_minor": 2
}
